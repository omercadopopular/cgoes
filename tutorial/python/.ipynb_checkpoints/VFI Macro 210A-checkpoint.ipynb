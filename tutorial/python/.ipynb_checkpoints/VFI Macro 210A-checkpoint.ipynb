{
 "cells": [
  {
   "cell_type": "markdown",
   "id": "a52231d3",
   "metadata": {},
   "source": [
    "# Discussion Session 2: Analytical and Numerical Solutions for Value Function Iteration\n",
    "## Carlos Góes (cgoes@ucsd.edu)"
   ]
  },
  {
   "cell_type": "code",
   "execution_count": null,
   "id": "d7810f12",
   "metadata": {},
   "outputs": [],
   "source": [
    "import numpy as np\n",
    "\n",
    "# Parameters\n",
    "α = 0.3\n",
    "β = 0.96\n",
    "A=1\n",
    "Steps=1000\n",
    "M=10e10\n",
    "GridMin = 1e-5\n",
    "GridMax = 1\n",
    "MaxIter = 10000\n",
    "Tol = 10e-10"
   ]
  },
  {
   "cell_type": "markdown",
   "id": "b6f8425a",
   "metadata": {},
   "source": [
    "We need to approximate the value function $v(K)$, which is defined over a continuous interval $(0,\\infty)$. However, our computers, as a general rule, cannot handle continuous spaces, so we have to **discretize our continuous space**.\n",
    "\n",
    "* **Step 1: construct a grid**. We do so by constructing a grid -- i.e., a set of discrete values of $K \\in [\\underline{K},\\bar{K}]$ where $\\underline{K} > 0$, $\\bar{K} < \\infty$:\n",
    "\n",
    "\\begin{equation*}\n",
    "    G = \\{ K_1, K_2, \\cdots, K_n \\}\n",
    "\\end{equation*}\n",
    "\n",
    "with $K_1 = \\underline{K}$ and $K_n = \\bar{K}$; and $K_i - K_{i-1} = c$ for all $i < n$. Therefore, the grid is a equidistant set of points over the real-line ranging from $\\underline{K}$ to $\\bar{K}$."
   ]
  },
  {
   "cell_type": "code",
   "execution_count": null,
   "id": "8d046c8a",
   "metadata": {},
   "outputs": [],
   "source": [
    "# Fixed Matrices\n",
    "\n",
    "## Grid\n",
    "Grid = np.linspace(GridMin, GridMax, Steps)\n",
    "Grid"
   ]
  },
  {
   "cell_type": "markdown",
   "id": "eaeeaace",
   "metadata": {},
   "source": [
    "* **Step 2: Construct Matrix of Utilities**. Given the grid, we can calculate consumption values $C(K_i, K_j') = K_i^{\\theta} - K'_{j}$ for some values of present $K_i$ and future $K_j'$ capital. We use our grid $G$ in two dimensions, and construct a utility matrix:\n",
    "\n",
    "\\begin{equation*}\n",
    "    U = \n",
    "    \\begin{bmatrix}\n",
    "        u(C(K_1, K_1')) & u(C(K_1, K_2')) & \\cdots & u(C(K_1, K_n')) \\\\\n",
    "        \\vdots & \\ddots &\\ddots & \\vdots \\\\\n",
    "        u(C(K_n, K_1')) & u(C(K_n, K_2')) & \\cdots & u(C(K_n, K_n')) \n",
    "    \\end{bmatrix}\n",
    "\\end{equation*}\n",
    "\n",
    "with a non-restriction $u(\\cdot)=-M$ if $C(\\cdot,\\cdot)<0$, where $M$ is a large number. "
   ]
  },
  {
   "cell_type": "code",
   "execution_count": null,
   "id": "07d496c5",
   "metadata": {},
   "outputs": [],
   "source": [
    "## C\n",
    "Today = np.outer(A*Grid**α,np.ones(Steps))\n",
    "Tomorrow = np.outer(np.ones(Steps), Grid)\n",
    "C = Today - Tomorrow\n",
    "C"
   ]
  },
  {
   "cell_type": "code",
   "execution_count": null,
   "id": "c79dccd7",
   "metadata": {},
   "outputs": [],
   "source": [
    "## U\n",
    "U = - M * np.ones([Steps,Steps])\n",
    "U[C>0] = np.log( (C[C>0]) )\n",
    "U"
   ]
  },
  {
   "cell_type": "markdown",
   "id": "c566d2a8",
   "metadata": {},
   "source": [
    "* **Step 3: Have a candidate value function**. We then need a starting guess $v_0 = (v_0(K_1), v_0(K_2), \\cdots, v_0(K_n))$ -- this can be any guess, including a vector of zeros $v_0 = (0, 0, \\cdots, 0)$.\n",
    "\n",
    "For a given vector $v_m$, we can calculate a matrix $\\tilde{V}^m$:\n",
    "\n",
    "\\begin{equation*}\n",
    "    \\tilde{V}^m = \n",
    "    \\begin{bmatrix}\n",
    "        U_{1,1} + \\beta v_m(K'_1) & U_{1,2} + \\beta v_m(K'_2) & \\cdots & U_{1,n} + \\beta v_m(K'_n) \\\\\n",
    "        \\vdots & \\ddots &\\ddots & \\vdots \\\\\n",
    "        U_{n,1} + \\beta v_m(K'_1) & U_{n,2} + \\beta v_m(K'_2) & \\cdots & U_{n,n} + \\beta v_m(K'_n)\n",
    "    \\end{bmatrix}\n",
    "\\end{equation*}\n",
    "\n",
    "* **Step 4: Update the value function**. Given the results above, update our value function as:\n",
    "\n",
    "\\begin{equation*}\n",
    "    v_{m+1}(K_i) = \\max_{p} \\tilde{V}^m_{i,p}\n",
    "\\end{equation*}\n",
    "\n",
    "resulting in $v_{m+1} = (v_{m+1}(K_1), v_{m+1}(K_2), \\cdots, v_{m+1}(K_n))$.\n",
    "\n",
    "* **Step 5: Calculate update gains**: If $||v_{m+1} - v_{m}|| = \\sup_{K_i} |v_{m+1}(K_i) - v_{m}(K_i)| < \\varepsilon$, where $\\varepsilon$ is a small error tolerance, we stop the algorithm. \n",
    "\n",
    "Otherwise, we go back to **Step 3**, using using $v_{m+1}$ on the right-hand-side of matrix $M$."
   ]
  },
  {
   "cell_type": "code",
   "execution_count": null,
   "id": "3e7695a5",
   "metadata": {},
   "outputs": [],
   "source": [
    "# Bellman Loop\n",
    "\n",
    "## Create Lists to Store Results\n",
    "PolicyPath = []; ValuePath = []        \n",
    "\n",
    "## Initiate Counter + Norm Distance\n",
    "Counter = 0; Norm = M\n",
    "\n",
    "## Loop\n",
    "while (Counter < MaxIter) and (Norm > Tol):\n",
    "    if Counter == 0:\n",
    "        v = np.zeros([Steps,1]).T\n",
    "\n",
    "    Counter += 1\n",
    "    v_m = v\n",
    "\n",
    "    V_tilde = U + β * np.outer(np.ones([Steps,1]),np.transpose(v))\n",
    "\n",
    "    v = np.amax(V_tilde, axis=1)\n",
    "    ValuePath.append(v)\n",
    "    index = np.argmax(V_tilde, axis=1)\n",
    "    PolicyPath.append(Grid[index])\n",
    "            \n",
    "    Norm = np.max(abs(np.subtract(v_m, v)))"
   ]
  },
  {
   "cell_type": "code",
   "execution_count": null,
   "id": "3ca70066",
   "metadata": {},
   "outputs": [],
   "source": [
    "## Plots convergence of value function\n",
    "\n",
    "\n",
    "import matplotlib.pyplot as plt\n",
    "plt.style.use('fivethirtyeight')\n",
    "\n",
    "fig1 = plt.figure()\n",
    "plt.xlabel(r'K')\n",
    "plt.ylabel('V(K)')\n",
    "\n",
    "# Prints every value function stored in value\n",
    "for line in ValuePath:\n",
    "    plt.plot(Grid, line, '-.', linewidth=0.3, color='black')\n",
    "    \n",
    "plt.tight_layout()\n",
    "## Plots convergence of value function\n",
    "plt.show()\n"
   ]
  },
  {
   "cell_type": "code",
   "execution_count": null,
   "id": "c98f9705",
   "metadata": {},
   "outputs": [],
   "source": [
    "## Plots convergence of policy function\n",
    "\n",
    "\n",
    "import matplotlib.pyplot as plt\n",
    "plt.style.use('fivethirtyeight')\n",
    "\n",
    "fig1 = plt.figure()\n",
    "plt.xlabel(\"K\")\n",
    "plt.ylabel(\"K'(K)\")\n",
    "\n",
    "# Prints every value function stored in value\n",
    "for line in PolicyPath:\n",
    "    plt.plot(Grid, line, '-.', linewidth=0.3, color='black')\n",
    "    \n",
    "plt.tight_layout()\n",
    "## Plots convergence of value function\n",
    "plt.show()\n"
   ]
  },
  {
   "cell_type": "code",
   "execution_count": null,
   "id": "ef66961f",
   "metadata": {},
   "outputs": [],
   "source": [
    "## Plots the final policy function and the 45 degree line (steady state).\n",
    "## Compares with analytically computed steady state\n",
    "\n",
    "K_ss = (1/(α * β * A))**(1/(α-1))\n",
    "\n",
    "fig2 = plt.figure()\n",
    "plt.xlabel(\"K\")\n",
    "plt.ylabel(\"K'(K)\")\n",
    "\n",
    "plt.axvline(K_ss,color='grey', linewidth=1)\n",
    "plt.axhline(K_ss,color='grey', linewidth=1)\n",
    "plt.plot(Grid, PolicyPath[-1], linewidth=1, color='red')\n",
    "plt.plot(Grid, Grid, linewidth=1, color='black')    \n",
    "plt.tight_layout()\n",
    "plt.show()"
   ]
  },
  {
   "cell_type": "code",
   "execution_count": null,
   "id": "69bef0af",
   "metadata": {},
   "outputs": [],
   "source": [
    "## Plots variable convergence to steady state\n",
    "\n",
    "# Selects only the optimal policy and value functions\n",
    "Policy, Value = PolicyPath[-1], ValuePath[-1]\n",
    "\n",
    "# Initiates an arbitrary level of capital\n",
    "Kprime = .001\n",
    "\n",
    "# Create empty lists to store convergence\n",
    "KPath, CPath, SPath, YPath = [], [], [], []\n",
    "\n",
    "# Define horizon\n",
    "T = 40\n",
    "\n",
    "# Iterate over time to store dynamics\n",
    "for period in range(T):\n",
    "    K = Kprime\n",
    "    Kprime = Policy[np.argmin(abs(Grid-K))]\n",
    "    KPath.append(K)\n",
    "    CPath.append(K**α - Kprime)\n",
    "    YPath.append(K**α)\n",
    "    SPath.append(Kprime/K**α)\n",
    "\n",
    "# Plot figure\n",
    "fig3 = plt.figure()\n",
    "plt.xlabel(r't')\n",
    "plt.ylabel('K, Y, C, S')\n",
    "\n",
    "plt.plot(range(T), YPath, linewidth=1.5, color='black', label='Output')\n",
    "plt.plot(range(T), CPath, linewidth=1.5, color='red', label='Consumption')\n",
    "plt.plot(range(T), KPath, linewidth=1.5, color='orange', label='Capital')    \n",
    "plt.plot(range(T), SPath, linewidth=1.5, color='purple', label='Savings rate (shr of y)')    \n",
    "plt.legend(loc='upper left')    \n",
    "\n",
    "plt.tight_layout()\n",
    "plt.show()"
   ]
  },
  {
   "cell_type": "code",
   "execution_count": null,
   "id": "e2f87138",
   "metadata": {},
   "outputs": [],
   "source": []
  }
 ],
 "metadata": {
  "kernelspec": {
   "display_name": "Python 3",
   "language": "python",
   "name": "python3"
  },
  "language_info": {
   "codemirror_mode": {
    "name": "ipython",
    "version": 3
   },
   "file_extension": ".py",
   "mimetype": "text/x-python",
   "name": "python",
   "nbconvert_exporter": "python",
   "pygments_lexer": "ipython3",
   "version": "3.8.11"
  }
 },
 "nbformat": 4,
 "nbformat_minor": 5
}
