{
 "cells": [
  {
   "cell_type": "code",
   "execution_count": 1,
   "id": "49727a1d-33ff-4ed2-94bc-4dd2bae7e2a1",
   "metadata": {},
   "outputs": [],
   "source": [
    "import requests, pandas as pd, re\n",
    "from bs4 import BeautifulSoup\n",
    "\n",
    "# census api\n",
    "base = \"https://api.census.gov/data/timeseries/intltrade/imports/hs\"\n",
    "params = {\n",
    "    \"get\": \"I_COMMODITY,I_COMMODITY_SDESC,GEN_VAL_YR\",\n",
    "    \"COMM_LVL\": \"HS10\",\n",
    "    \"CTY_CODE\": \"3510\",        # Brazil\n",
    "    \"time\": \"2024-12\"         # only December’s year‑to‑date figure\n",
    "}\n",
    "r = requests.get(base, params=params, timeout=60)\n",
    "r.raise_for_status()\n",
    "\n",
    "imports = pd.DataFrame(r.json()[1:], columns=r.json()[0])\n",
    "imports[\"value\"] = pd.to_numeric(imports[\"GEN_VAL_YR\"])\n",
    "imports[\"hs8\"]   = imports[\"I_COMMODITY\"].str.slice(0, 8)  # trim to HS‑8\n",
    "total_us_imports = imports[\"value\"].sum()\n",
    "imports_hs8 = imports.groupby('hs8').agg({\n",
    "    'I_COMMODITY_SDESC': 'first',\n",
    "    'value': 'sum'\n",
    "    }).reset_index()\n",
    "\n",
    "\n",
    "# exclude re-imports\n",
    "imports_hs8 = imports_hs8[ imports_hs8.hs8 != '98010010' ] \n",
    "\n",
    "# executive order\n",
    "eo_url = \"https://www.whitehouse.gov/presidential-actions/2025/07/addressing-threats-to-the-us/\"\n",
    "html = requests.get(eo_url, timeout=60).text\n",
    "soup = BeautifulSoup(html, \"lxml\")\n",
    "\n",
    "code_pattern = re.compile(r\"\\d{4}\\.\\d{2}\\.\\d{2}\")\n",
    "codes = set(m.group() for m in code_pattern.finditer(soup.get_text()))\n",
    "annex = pd.DataFrame({\"hs8\": [c.replace(\".\", \"\") for c in codes]})   # strip dots\n",
    "\n",
    "# merge\n",
    "covered   = imports_hs8.merge(annex, on=\"hs8\", how=\"inner\")\n",
    "covered_val = covered[\"value\"].sum()\n",
    "share_exempt = covered_val / total_us_imports"
   ]
  },
  {
   "cell_type": "code",
   "execution_count": 2,
   "id": "ea9efd77-ac64-464d-ae32-0018d1a4c4a9",
   "metadata": {},
   "outputs": [
    {
     "name": "stdout",
     "output_type": "stream",
     "text": [
      "US imports from Brazil, 2024 (Census basis): $42,348,411,089\n",
      "Value explicitly *excluded* in Annex I:         $18,400,222,546\n",
      "Value *not excluded* in Annex I:         $23,948,188,543\n",
      "Share excluded:                                43.45%\n",
      "Share subject to 40 % surcharge:               56.55%\n"
     ]
    }
   ],
   "source": [
    "print(f\"US imports from Brazil, 2024 (Census basis): ${total_us_imports:,.0f}\")\n",
    "print(f\"Value explicitly *excluded* in Annex I:         ${covered_val:,.0f}\")\n",
    "print(f\"Value *not excluded* in Annex I:         ${total_us_imports - covered_val:,.0f}\")\n",
    "print(f\"Share excluded:                                {share_exempt:.2%}\")\n",
    "print(f\"Share subject to 40 % surcharge:               {(1-share_exempt):.2%}\")"
   ]
  },
  {
   "cell_type": "code",
   "execution_count": 3,
   "id": "270dc985-d5e8-4f09-87f5-687f631e71fe",
   "metadata": {},
   "outputs": [
    {
     "name": "stdout",
     "output_type": "stream",
     "text": [
      "          hs8                                  I_COMMODITY_SDESC       value\n",
      "11   27090020  CRUDE PETROLEUM TEST 25 DEGREES API OR MORE NESOI  4970263973\n",
      "79   72011000     NONALLOY PIG IRON 0.5 PRCNT OR LESS PHOSPHORUS  1536412085\n",
      "10   27090010       CRUDE PETROLEUM TESTING UNDER 25 DEGREES API  1510827641\n",
      "65   47032900  CHEM WDPULP SULFATE EX DSSLVNG GR NONCONF SEMI...  1338868639\n",
      "341  88023001   NEW TURBOFAN PLANES,NON-MILITARY,(4536-15000 KG)  1069140367\n",
      "12   27101215        MOTOR FUEL, NOT CONTAINING BIODIESEL, NESOI   787265187\n",
      "16   27101906  HEAVY FL OIL,DISTL/RESD,LT 25 DEG,NT BIODSEL N...   785458518\n",
      "342  88024001  NEW PASSENGR TRANSPORT,NON-MILITARY,WT GT 15,0...   752240710\n",
      "3    20091225  ORANGE JUICE UNFERMNTD NOT FROZ NOT CONCENTRTD...   663210117\n",
      "7    26011200    IRON ORE AND CONCENTRATES, AGGLOMERATED PELLETS   420952147\n",
      "34   28182000  ALUMINUM OXIDE, EXCEPT ARTIFICIAL CORUNDUM, NESOI   371670695\n",
      "72   68029900           OTHER STONE MONUMENTS, BASES AND MARKERS   369665559\n",
      "14   27101245  LGHT OIL,PREP OF OTHR HYDCBN MIX,NT BIODIESL,N...   364645000\n",
      "2    20091100  ORANGE JUICE UNFERMNTD FROZEN CNTR UNDER .946L...   318405121\n",
      "78   71081210  GOLD BULLION NT UNDR 99.95 P GOLD NONMTRY: GOL...   284582944\n"
     ]
    }
   ],
   "source": [
    "# Top 15 exempt lines, to eyeball the reconciliation\n",
    "top = covered.sort_values('value', ascending=False).head(15)\n",
    "print(top)"
   ]
  },
  {
   "cell_type": "code",
   "execution_count": 4,
   "id": "a6bad285-fdad-41de-ac1b-03c73e1b7f20",
   "metadata": {},
   "outputs": [
    {
     "name": "stdout",
     "output_type": "stream",
     "text": [
      "           hs8                                  I_COMMODITY_SDESC       value\n",
      "4254  98010010  GOODS OF CHAPTER 28 RETURNED AFTER BEING EXPORTED  2403779860\n",
      "150   09011100   COFFEE, ORGANIC, ARABICA, NOT DECAF, NOT ROASTED  1873630841\n",
      "2520  72071200  SEMIFIN IR/STL LT 0.25%CARB CROS-SECT WD GT=4X...  1676283481\n",
      "2589  72249000  SMFD AL STL NT SS OR TS,REC/SQ,WIDTH 4X THKNS AOV   509867463\n",
      "3149  84295110  SHOV LDR,REAR ENG MT,4WH DR,CAP1.5M3UNDER2.2M3...   470563671\n",
      "8     02023080           MEAT OF BOVINES, BONELESS, FROZEN, NESOI   462359371\n",
      "272   17011450  CANE SUGAR,RAW, NO ADDED FLVORING/COLORING, NESOI   439592941\n",
      "7     02023050   MEAT,BVINE BONELESS FRZN US NTE 3 EXC PRCSD, RIB   433991471\n",
      "1354  44091040            PINE STANDARD WOOD MOLDING, END-JOINTED   350512417\n",
      "262   16025021  MT BOV ANML NESOI NO VEG PREP AIRTITE CNTR LT 1KG   346999676\n",
      "232   15021000                                   TALLOW, INEDIBLE   345881394\n",
      "3146  84292000               GRADERS AND LEVELERS, SELF-PROPELLED   321721095\n",
      "3780  87041050  MTR VEH, REAR DUMP OFF-HYW (40.8-63.5) METRIC ...   294677703\n",
      "3490  85042300   LIQUID DLCTC TRANSFORM GT 10000 BUT LT=59999 KVA   267540956\n",
      "3765  87013010   TRCK-LAYING TRCTS AGR, LT=119.4 KW BUT LT 194 KW   247439199\n"
     ]
    }
   ],
   "source": [
    "# Top 15 non-exempt lines\n",
    "noncovered_set = set(imports_hs8.hs8).difference(set(covered.hs8))\n",
    "noncovered = imports_hs8[ [x in noncovered_set for x in imports_hs8.hs8] ]\n",
    "top_noncovered = noncovered.sort_values('value', ascending=False).head(15)\n",
    "print(top_noncovered)"
   ]
  }
 ],
 "metadata": {
  "kernelspec": {
   "display_name": "Python 3 (ipykernel)",
   "language": "python",
   "name": "python3"
  },
  "language_info": {
   "codemirror_mode": {
    "name": "ipython",
    "version": 3
   },
   "file_extension": ".py",
   "mimetype": "text/x-python",
   "name": "python",
   "nbconvert_exporter": "python",
   "pygments_lexer": "ipython3",
   "version": "3.12.4"
  }
 },
 "nbformat": 4,
 "nbformat_minor": 5
}
